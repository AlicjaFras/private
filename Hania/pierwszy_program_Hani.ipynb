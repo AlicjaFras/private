{
 "cells": [
  {
   "cell_type": "code",
   "execution_count": null,
   "metadata": {},
   "outputs": [],
   "source": [
    "def kalulator_mnozenie(pierwsza_liczba, druga_liczba):\n",
    "    wynik = pierwsza_liczba * druga_liczba\n",
    "    return wynik"
   ]
  },
  {
   "cell_type": "code",
   "execution_count": null,
   "metadata": {},
   "outputs": [],
   "source": [
    "kalulator_mnozenie(100, 100)"
   ]
  },
  {
   "cell_type": "code",
   "execution_count": 2,
   "metadata": {},
   "outputs": [],
   "source": [
    "def kalkulator(pierwsza_liczba, druga_liczba, znak):\n",
    "    if znak == \"+\":\n",
    "        wynik = pierwsza_liczba + druga_liczba\n",
    "    if znak == \"-\":\n",
    "        wynik = pierwsza_liczba - druga_liczba\n",
    "    if znak == \"*\":\n",
    "        wynik = pierwsza_liczba * druga_liczba\n",
    "    if znak == \"/\":\n",
    "        wynik = pierwsza_liczba / druga_liczba\n",
    "    return wynik"
   ]
  },
  {
   "cell_type": "code",
   "execution_count": 3,
   "metadata": {},
   "outputs": [
    {
     "data": {
      "text/plain": [
       "6"
      ]
     },
     "execution_count": 3,
     "metadata": {},
     "output_type": "execute_result"
    }
   ],
   "source": [
    "kalkulator(4, 2, \"+\")"
   ]
  }
 ],
 "metadata": {
  "kernelspec": {
   "display_name": "private",
   "language": "python",
   "name": "python3"
  },
  "language_info": {
   "codemirror_mode": {
    "name": "ipython",
    "version": 3
   },
   "file_extension": ".py",
   "mimetype": "text/x-python",
   "name": "python",
   "nbconvert_exporter": "python",
   "pygments_lexer": "ipython3",
   "version": "3.9.16"
  },
  "orig_nbformat": 4
 },
 "nbformat": 4,
 "nbformat_minor": 2
}
