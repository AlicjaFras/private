{
 "cells": [
  {
   "cell_type": "code",
   "execution_count": 45,
   "metadata": {},
   "outputs": [],
   "source": [
    "import openai\n",
    "from dotenv import dotenv_values\n",
    "import json\n",
    "from IPython.display import Markdown, display"
   ]
  },
  {
   "cell_type": "code",
   "execution_count": 56,
   "metadata": {},
   "outputs": [],
   "source": [
    "def display_colors(colors):\n",
    "    display(Markdown(\" \".join(\n",
    "        f\"<span style='color: {color}'>{chr(9608)}</span>\"\n",
    "        for color in colors\n",
    "    )))"
   ]
  },
  {
   "cell_type": "code",
   "execution_count": 2,
   "metadata": {},
   "outputs": [],
   "source": [
    "config = dotenv_values('.env')"
   ]
  },
  {
   "cell_type": "code",
   "execution_count": 3,
   "metadata": {},
   "outputs": [],
   "source": [
    "openai.api_key = config['OPENAI_API_KEY']"
   ]
  },
  {
   "cell_type": "code",
   "execution_count": 60,
   "metadata": {},
   "outputs": [],
   "source": [
    "def get_and_render_colors(msg):\n",
    "    prompt = f\"\"\"You are a color palette generating assistant that responds to text prompts for color palettes. The palette should be between 2 and 8 colors. \n",
    "\n",
    "    Format example: [\"#FD5D61\", \"#FDD3C2\", \"#FEE2D8\", \"#FEE9DB\", \"#FFF2DE\"]\n",
    "    Text: {msg}\n",
    "    \"\"\"\n",
    "\n",
    "    response = openai.Completion.create(\n",
    "        model='text-davinci-003',\n",
    "        prompt=prompt, \n",
    "        max_tokens=200\n",
    "    )\n",
    "\n",
    "    cols = json.loads(response['choices'][0]['text'])\n",
    "    display_colors(cols)    "
   ]
  },
  {
   "cell_type": "code",
   "execution_count": 75,
   "metadata": {},
   "outputs": [
    {
     "data": {
      "text/markdown": [
       "<span style='color: #2E2A25'>█</span> <span style='color: #7F3A1E'>█</span> <span style='color: #B63F1A'>█</span> <span style='color: #EF5E2D'>█</span> <span style='color: #DE8558'>█</span> <span style='color: #FDE9CA'>█</span> <span style='color: #D9EAE8'>█</span>"
      ],
      "text/plain": [
       "<IPython.core.display.Markdown object>"
      ]
     },
     "metadata": {},
     "output_type": "display_data"
    }
   ],
   "source": [
    "get_and_render_colors(\"Christmass color palette\")\n"
   ]
  },
  {
   "cell_type": "markdown",
   "metadata": {},
   "source": [
    "Rewrite the function to ChatCompletion endpoint. "
   ]
  },
  {
   "cell_type": "code",
   "execution_count": 94,
   "metadata": {},
   "outputs": [],
   "source": [
    "def get_and_render_colors_chat(msg):\n",
    "    prompt = f\"\"\"You are a color palette generating assistant that responds to text prompts for color palettes. The palette should be between 2 and 8 colors. \n",
    "\n",
    "    Format example: [\"#FD5D61\", \"#FDD3C2\", \"#FEE2D8\", \"#FEE9DB\", \"#FFF2DE\"]\n",
    "    Text: {msg}\n",
    "    \"\"\"\n",
    "\n",
    "    response = openai.ChatCompletion.create(\n",
    "        model='gpt-3.5-turbo',\n",
    "        messages=[\n",
    "            {'role':'system', 'content': 'You are a helpful assistant that generates color palettes'},\n",
    "            {'role': 'user', 'content': prompt}\n",
    "        ],\n",
    "    )\n",
    "\n",
    "    cols = json.loads(response['choices'][0]['message']['content'])\n",
    "    display_colors(cols)   "
   ]
  },
  {
   "cell_type": "code",
   "execution_count": 102,
   "metadata": {},
   "outputs": [
    {
     "data": {
      "text/markdown": [
       "<span style='color: #92E3AA'>█</span> <span style='color: #F9D5A7'>█</span> <span style='color: #A4DBE7'>█</span> <span style='color: #F19098'>█</span> <span style='color: #FFEE93'>█</span>"
      ],
      "text/plain": [
       "<IPython.core.display.Markdown object>"
      ]
     },
     "metadata": {},
     "output_type": "display_data"
    }
   ],
   "source": [
    "get_and_render_colors_chat(\"Easter color palette\")"
   ]
  }
 ],
 "metadata": {
  "kernelspec": {
   "display_name": "base",
   "language": "python",
   "name": "python3"
  },
  "language_info": {
   "codemirror_mode": {
    "name": "ipython",
    "version": 3
   },
   "file_extension": ".py",
   "mimetype": "text/x-python",
   "name": "python",
   "nbconvert_exporter": "python",
   "pygments_lexer": "ipython3",
   "version": "3.7.3"
  },
  "orig_nbformat": 4
 },
 "nbformat": 4,
 "nbformat_minor": 2
}
