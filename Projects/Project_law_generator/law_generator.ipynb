{
 "cells": [
  {
   "cell_type": "code",
   "execution_count": 38,
   "metadata": {},
   "outputs": [],
   "source": [
    "import torch\n",
    "import tqdm as notebook_tqdm\n",
    "torch.set_printoptions(precision=4)"
   ]
  },
  {
   "cell_type": "code",
   "execution_count": 2,
   "metadata": {},
   "outputs": [],
   "source": [
    "with open('ustawa_o_pit.txt', 'r', encoding='utf-8') as f:\n",
    "    pit = f.read()"
   ]
  },
  {
   "cell_type": "code",
   "execution_count": 3,
   "metadata": {},
   "outputs": [
    {
     "name": "stdout",
     "output_type": "stream",
     "text": [
      "Podatek dochodowy od osób fizycznych.\n",
      "Dziennik Ustaw\n",
      "Dz.U.2022.2647 t.j.Akt obowiązujący\n",
      "Wersja od: 8 sierpnia 2023 r. do: 18 sierpnia 2023 r.\n",
      "USTAWA\n",
      "z dnia 26 lipca 1991 r.\n",
      "o podatku dochodowym od osób fizycznych *\n",
      "Rozdział  1\n",
      "Podmiot i przedmiot opodatkowania\n",
      "\n",
      "Art.  1.  [Zakres podmiotowy i przedmiotowy]\n",
      "Ustawa reguluje opodatkowanie podatkiem dochodowym dochodów osób fizycznych oraz daninę solidarnościową.\n",
      "\n",
      "Art.  1a.  [Opodatkowanie dochodów przedsiębiorstwa w spadku]\n",
      "1.  Ustawa reguluje również opodatkowanie podatkiem dochodowym dochodów przedsiębiorstwa w spadku.\n",
      "2.  Przedsiębiorstwo w spadku, stanowiące jednostkę organizacyjną niemającą osobowości prawnej, jest podatnikiem z tytułu dochodów osiąganych w okresie od otwarcia spadku do dnia wygaśnięcia:\n",
      "1) zarządu sukcesyjnego albo\n",
      "2) uprawnienia do powołania zarządcy sukcesyjnego, jeżeli zarząd sukcesyjny nie został ustanowiony i dokonano zgłoszenia, o którym mowa w art. 12 ust. 1c ustawy z dnia 13 października 1995 r. o zasadach e\n"
     ]
    }
   ],
   "source": [
    "print(pit[:1000])"
   ]
  },
  {
   "cell_type": "code",
   "execution_count": 4,
   "metadata": {},
   "outputs": [
    {
     "name": "stdout",
     "output_type": "stream",
     "text": [
      "\t\n",
      " \"%'()*+,-./0123456789:;ABCDEFGHIJKLMNOPRSTUVWXYZ[]abcdefghijklmnopqrstuvwxyz§ÉÓ×Ýßáâäçéëíîóôö÷úüýăĄąćċčďĐđęěħĹĺŁłńňőŕŚśšţťůűŹźŻżž˙–\n"
     ]
    }
   ],
   "source": [
    "chars = sorted(list(set(pit)))\n",
    "vocab_size = len(chars)\n",
    "print(''.join(chars))"
   ]
  },
  {
   "cell_type": "code",
   "execution_count": 5,
   "metadata": {},
   "outputs": [
    {
     "name": "stdout",
     "output_type": "stream",
     "text": [
      "[35, 57, 71, 72, 57, 121, 2, 26, 64, 61, 55, 62, 53, 12]\n",
      "Jesteś Alicja.\n"
     ]
    }
   ],
   "source": [
    "# create mapping from character to integers\n",
    "stoi = { ch:i for i, ch in enumerate(chars) }\n",
    "itos = { i:ch for i, ch in enumerate(chars) }\n",
    "encode = lambda s: [stoi[c] for c in s] # encoder takes a string and outputs an integer\n",
    "decode = lambda l: ''.join([itos[i] for i in l]) # decoder takes a list of integers and outputs the string\n",
    "\n",
    "print(encode('Jesteś Alicja.'))\n",
    "print(decode(encode('Jesteś Alicja.')))"
   ]
  },
  {
   "cell_type": "code",
   "execution_count": 6,
   "metadata": {},
   "outputs": [
    {
     "name": "stdout",
     "output_type": "stream",
     "text": [
      "torch.Size([877190]) <built-in method type of Tensor object at 0x000001F3803A1AE8>\n",
      "tensor([ 41,  67,  56,  53,  72,  57,  63,   2,  56,  67,  55,  60,  67,  56,\n",
      "         67,  75,  77,   2,  67,  56,   2,  67,  71,  93,  54,   2,  58,  61,\n",
      "         78,  77,  55,  78,  66,  77,  55,  60,  12,   1,  29,  78,  61,  57,\n",
      "         66,  66,  61,  63,   2,  45,  71,  72,  53,  75,   1,  29,  78,  12,\n",
      "         45,  12,  16,  14,  16,  16,  12,  16,  20,  18,  21,   2,  72,  12,\n",
      "         62,  12,  26,  63,  72,   2,  67,  54,  67,  75,  61, 102,  78,  73,\n",
      "         62, 102,  55,  77,   1,  47,  57,  70,  71,  62,  53,   2,  67,  56,\n",
      "         24,   2])\n"
     ]
    }
   ],
   "source": [
    "data = torch.tensor(encode(pit), dtype=torch.long)\n",
    "print(data.shape, data.type)\n",
    "print(data[:100])"
   ]
  },
  {
   "cell_type": "code",
   "execution_count": 7,
   "metadata": {},
   "outputs": [],
   "source": [
    "# train/test split\n",
    "n = int(0.9*len(data))\n",
    "train_data = data[:n]\n",
    "val_data = data[n:]"
   ]
  },
  {
   "cell_type": "code",
   "execution_count": 8,
   "metadata": {},
   "outputs": [
    {
     "data": {
      "text/plain": [
       "tensor([41, 67, 56, 53, 72, 57, 63,  2, 56])"
      ]
     },
     "execution_count": 8,
     "metadata": {},
     "output_type": "execute_result"
    }
   ],
   "source": [
    "# split dataset into batches\n",
    "block_size = 8\n",
    "train_data[:block_size+1]"
   ]
  },
  {
   "cell_type": "code",
   "execution_count": 9,
   "metadata": {},
   "outputs": [
    {
     "name": "stdout",
     "output_type": "stream",
     "text": [
      "when input is tensor([41]) the target is: 67\n",
      "when input is tensor([41, 67]) the target is: 56\n",
      "when input is tensor([41, 67, 56]) the target is: 53\n",
      "when input is tensor([41, 67, 56, 53]) the target is: 72\n",
      "when input is tensor([41, 67, 56, 53, 72]) the target is: 57\n",
      "when input is tensor([41, 67, 56, 53, 72, 57]) the target is: 63\n",
      "when input is tensor([41, 67, 56, 53, 72, 57, 63]) the target is: 2\n",
      "when input is tensor([41, 67, 56, 53, 72, 57, 63,  2]) the target is: 56\n"
     ]
    }
   ],
   "source": [
    "x = train_data[:block_size]\n",
    "y = train_data[1:block_size+1]\n",
    "for t in range(block_size):\n",
    "    context = x[:t+1]\n",
    "    target = y[t]\n",
    "    print(f'when input is {context} the target is: {target}')"
   ]
  },
  {
   "cell_type": "code",
   "execution_count": 14,
   "metadata": {},
   "outputs": [
    {
     "name": "stdout",
     "output_type": "stream",
     "text": [
      "inputs:\n",
      "torch.Size([4, 8])\n",
      "tensor([[ 68,  67,  70,  78, 102,  56,  78,  53],\n",
      "        [ 67,  75,  53,  70,  67,  75,  57,  62],\n",
      "        [ 68,  67,  56,  65,  61,  67,  72,  73],\n",
      "        [ 77,  55,  60,   2,  67,  56,   2,  67]])\n",
      "targets:\n",
      "torch.Size([4, 8])\n",
      "tensor([[ 67,  70,  78, 102,  56,  78,  53,  66],\n",
      "        [ 75,  53,  70,  67,  75,  57,  62,  25],\n",
      "        [ 67,  56,  65,  61,  67,  72,  73,   2],\n",
      "        [ 55,  60,   2,  67,  56,   2,  67,  72]])\n",
      "----------------\n",
      "When input is [68] the target: 67\n",
      "When input is [68, 67] the target: 70\n",
      "When input is [68, 67, 70] the target: 78\n",
      "When input is [68, 67, 70, 78] the target: 102\n",
      "When input is [68, 67, 70, 78, 102] the target: 56\n",
      "When input is [68, 67, 70, 78, 102, 56] the target: 78\n",
      "When input is [68, 67, 70, 78, 102, 56, 78] the target: 53\n",
      "When input is [68, 67, 70, 78, 102, 56, 78, 53] the target: 66\n",
      "When input is [67] the target: 75\n",
      "When input is [67, 75] the target: 53\n",
      "When input is [67, 75, 53] the target: 70\n",
      "When input is [67, 75, 53, 70] the target: 67\n",
      "When input is [67, 75, 53, 70, 67] the target: 75\n",
      "When input is [67, 75, 53, 70, 67, 75] the target: 57\n",
      "When input is [67, 75, 53, 70, 67, 75, 57] the target: 62\n",
      "When input is [67, 75, 53, 70, 67, 75, 57, 62] the target: 25\n",
      "When input is [68] the target: 67\n",
      "When input is [68, 67] the target: 56\n",
      "When input is [68, 67, 56] the target: 65\n",
      "When input is [68, 67, 56, 65] the target: 61\n",
      "When input is [68, 67, 56, 65, 61] the target: 67\n",
      "When input is [68, 67, 56, 65, 61, 67] the target: 72\n",
      "When input is [68, 67, 56, 65, 61, 67, 72] the target: 73\n",
      "When input is [68, 67, 56, 65, 61, 67, 72, 73] the target: 2\n",
      "When input is [77] the target: 55\n",
      "When input is [77, 55] the target: 60\n",
      "When input is [77, 55, 60] the target: 2\n",
      "When input is [77, 55, 60, 2] the target: 67\n",
      "When input is [77, 55, 60, 2, 67] the target: 56\n",
      "When input is [77, 55, 60, 2, 67, 56] the target: 2\n",
      "When input is [77, 55, 60, 2, 67, 56, 2] the target: 67\n",
      "When input is [77, 55, 60, 2, 67, 56, 2, 67] the target: 72\n"
     ]
    }
   ],
   "source": [
    "torch.manual_seed(1337)\n",
    "batch_size = 4 # how many independent sequences to process in parallel\n",
    "block_size = 8 # maximum context length per prediction\n",
    "def get_batch(split):\n",
    "    # generates small batch of data of inputs x and targets y\n",
    "    data = train_data if split == 'train' else val_data\n",
    "    ix = torch.randint(len(data) - block_size, (batch_size, ))\n",
    "    x = torch.stack([data[i:i+block_size] for i  in ix])\n",
    "    y = torch.stack([data[i+1:i+block_size+1] for i  in ix])\n",
    "    return x, y\n",
    "\n",
    "xb, yb = get_batch('train')\n",
    "\n",
    "print('inputs:')\n",
    "print(xb.shape)\n",
    "print(xb)\n",
    "print('targets:')\n",
    "print(yb.shape)\n",
    "print(yb)\n",
    "\n",
    "print('----------------')\n",
    "\n",
    "for b in range(batch_size):\n",
    "    for t in range(block_size):\n",
    "        context = xb[b, :t+1]\n",
    "        target = yb[b, t]\n",
    "        print(f'When input is {context.tolist()} the target: {target}')"
   ]
  },
  {
   "cell_type": "code",
   "execution_count": 22,
   "metadata": {},
   "outputs": [
    {
     "name": "stdout",
     "output_type": "stream",
     "text": [
      "torch.Size([32, 134])\n",
      "tensor(5.3491, grad_fn=<NllLossBackward0>)\n",
      "\tħ+áŻk÷.ŹCħ6ċO˙ćő\"ŻôżZ92˙ŚOőśVüďçtsť\"źOċVß,žZlď d˙ÉěÝŻiD(ż9É(ëýźjDä\n",
      "/ţf-oiŁâjŹq1,P\n",
      "ċůö/RO\t\tčV×ċžDĐęcŚ\n"
     ]
    }
   ],
   "source": [
    "import torch.nn as nn\n",
    "from torch.nn import functional as F\n",
    "\n",
    "class BigramLanguageModel(nn.Module):\n",
    "\n",
    "    def __init__(self, vocab_size):\n",
    "        super().__init__()\n",
    "        self.token_embedding_table = nn.Embedding(vocab_size, vocab_size)\n",
    "\n",
    "    def forward(self, idx, targets=None):\n",
    "        # idx and target are both (B, T) tensors of integers\n",
    "        logits = self.token_embedding_table(idx) # (B, T, C)\n",
    "\n",
    "        if targets is None:\n",
    "            loss = None\n",
    "        else:\n",
    "            B, T, C = logits.shape\n",
    "            logits = logits.view(B*T, C)\n",
    "            targets = targets.view(B*T)\n",
    "            loss = F.cross_entropy(logits, targets)\n",
    "        \n",
    "        return logits, loss\n",
    "\n",
    "    def generate(self, idx, max_new_tokens):\n",
    "        # idx is (B, T) array of indices in the current context\n",
    "        for _ in range(max_new_tokens):\n",
    "            # get the predictions\n",
    "            logits, loss = self(idx)\n",
    "            # focus only on the last time step\n",
    "            logits = logits[:, -1, :] # becomes (B, C)\n",
    "            # apply softmax to get probabilities\n",
    "            probs = F.softmax(logits, dim=-1) # (B, C)\n",
    "            # sample from the distribution\n",
    "            idx_next = torch.multinomial(probs, num_samples=1) # (B, 1)\n",
    "            # append sampled index to the running sequence\n",
    "            idx = torch.cat((idx, idx_next), dim=1) # (B, T+1)\n",
    "        return idx\n",
    "\n",
    "m = BigramLanguageModel(vocab_size)\n",
    "logits, loss = m(xb, yb)\n",
    "print(logits.shape)\n",
    "print(loss)\n",
    "\n",
    "print(decode(m.generate(torch.zeros((1, 1), dtype = torch.long), max_new_tokens=100)[0].tolist()))\n"
   ]
  },
  {
   "cell_type": "code",
   "execution_count": 23,
   "metadata": {},
   "outputs": [],
   "source": [
    "optimizer = torch.optim.AdamW(m.parameters(), lr=1e-3)"
   ]
  },
  {
   "cell_type": "code",
   "execution_count": 26,
   "metadata": {},
   "outputs": [
    {
     "name": "stdout",
     "output_type": "stream",
     "text": [
      "2.4471957683563232\n"
     ]
    }
   ],
   "source": [
    "batch_size = 32\n",
    "for steps in range(10000):\n",
    "\n",
    "    # sample a batch of data\n",
    "    xb, yb = get_batch('train')\n",
    "\n",
    "    # evaluate the loss\n",
    "    logits, loss = m(xb, yb)\n",
    "    optimizer.zero_grad(set_to_none=True)\n",
    "    loss.backward()\n",
    "    optimizer.step()\n",
    "\n",
    "print(loss.item())"
   ]
  },
  {
   "cell_type": "code",
   "execution_count": 28,
   "metadata": {},
   "outputs": [
    {
     "name": "stdout",
     "output_type": "stream",
     "text": [
      "\t- tórz. u 1bych wamniody dy i b) niatęc,  odawałaze pusteno kłaryć kraj o fie pema  su oniwowarwno (da: stydaciaj, poścenisko sąch uła wytaj z d (Szatateni ikiaduk poni ie O) pryczeprch przaro si nacxâqä§o ubu zedowa wniaładz m fi tkaf1 tow jint. wy pry todniwa:N]\n",
      "5a,  udodu, rytwy.\n",
      "(ubyczy onyfięku\n"
     ]
    }
   ],
   "source": [
    "print(decode(m.generate(torch.zeros((1, 1), dtype = torch.long), max_new_tokens=300)[0].tolist()))"
   ]
  },
  {
   "cell_type": "markdown",
   "metadata": {},
   "source": [
    "## Self-attention"
   ]
  },
  {
   "cell_type": "code",
   "execution_count": 42,
   "metadata": {},
   "outputs": [],
   "source": [
    "# version 1\n",
    "# bow stands for bag of words\n",
    "B, T, C = 4, 8, 2\n",
    "x = torch.randn(B, T, C)\n",
    "xbow = torch.zeros((B,T,C))\n",
    "for b in range(B):\n",
    "    for t in range(T):\n",
    "        xprev = x[b, :t+1] # (t,C)\n",
    "        xbow[b,t] = torch.mean(xprev, 0)"
   ]
  },
  {
   "cell_type": "code",
   "execution_count": 46,
   "metadata": {},
   "outputs": [
    {
     "data": {
      "text/plain": [
       "True"
      ]
     },
     "execution_count": 46,
     "metadata": {},
     "output_type": "execute_result"
    }
   ],
   "source": [
    "# version 2\n",
    "wei = torch.tril(torch.ones(T, T))\n",
    "wei = wei / wei.sum(1, keepdim = True)\n",
    "xbow2 = wei @ x # (B, T, T) @ (B, T, C) -------> (B, T, C)\n",
    "torch.allclose(xbow, xbow2)"
   ]
  },
  {
   "cell_type": "code",
   "execution_count": 66,
   "metadata": {},
   "outputs": [
    {
     "data": {
      "text/plain": [
       "True"
      ]
     },
     "execution_count": 66,
     "metadata": {},
     "output_type": "execute_result"
    }
   ],
   "source": [
    "# version 3: use softmax\n",
    "tril = torch.tril(torch.ones(T, T))\n",
    "wei = torch.zeros(T, T)\n",
    "wei = wei.masked_fill(tril == 0, float('-inf'))\n",
    "wei = F.softmax(wei, dim=1)\n",
    "xbow3 = wei @ x\n",
    "torch.allclose(xbow, xbow3)"
   ]
  },
  {
   "cell_type": "code",
   "execution_count": 65,
   "metadata": {},
   "outputs": [
    {
     "data": {
      "text/plain": [
       "tensor([[1.0000, 0.0000, 0.0000, 0.0000, 0.0000, 0.0000, 0.0000, 0.0000],\n",
       "        [0.5000, 0.5000, 0.0000, 0.0000, 0.0000, 0.0000, 0.0000, 0.0000],\n",
       "        [0.3333, 0.3333, 0.3333, 0.0000, 0.0000, 0.0000, 0.0000, 0.0000],\n",
       "        [0.2500, 0.2500, 0.2500, 0.2500, 0.0000, 0.0000, 0.0000, 0.0000],\n",
       "        [0.2000, 0.2000, 0.2000, 0.2000, 0.2000, 0.0000, 0.0000, 0.0000],\n",
       "        [0.1667, 0.1667, 0.1667, 0.1667, 0.1667, 0.1667, 0.0000, 0.0000],\n",
       "        [0.1429, 0.1429, 0.1429, 0.1429, 0.1429, 0.1429, 0.1429, 0.0000],\n",
       "        [0.1250, 0.1250, 0.1250, 0.1250, 0.1250, 0.1250, 0.1250, 0.1250]])"
      ]
     },
     "execution_count": 65,
     "metadata": {},
     "output_type": "execute_result"
    }
   ],
   "source": [
    "wei"
   ]
  }
 ],
 "metadata": {
  "kernelspec": {
   "display_name": "private_env",
   "language": "python",
   "name": "python3"
  },
  "language_info": {
   "codemirror_mode": {
    "name": "ipython",
    "version": 3
   },
   "file_extension": ".py",
   "mimetype": "text/x-python",
   "name": "python",
   "nbconvert_exporter": "python",
   "pygments_lexer": "ipython3",
   "version": "3.7.3"
  },
  "orig_nbformat": 4
 },
 "nbformat": 4,
 "nbformat_minor": 2
}
